{
 "cells": [
  {
   "cell_type": "markdown",
   "metadata": {
    "deletable": true,
    "editable": true
   },
   "source": [
    "# Collaboration and Competition\n",
    "\n",
    "---\n",
    "\n",
    "In this notebook, you will learn how to use the Unity ML-Agents environment for the third project of the [Deep Reinforcement Learning Nanodegree](https://www.udacity.com/course/deep-reinforcement-learning-nanodegree--nd893) program.\n",
    "\n",
    "### 1. Start the Environment\n",
    "\n",
    "We begin by importing the necessary packages.  If the code cell below returns an error, please revisit the project instructions to double-check that you have installed [Unity ML-Agents](https://github.com/Unity-Technologies/ml-agents/blob/master/docs/Installation.md) and [NumPy](http://www.numpy.org/)."
   ]
  },
  {
   "cell_type": "code",
   "execution_count": 1,
   "metadata": {
    "collapsed": true,
    "deletable": true,
    "editable": true
   },
   "outputs": [],
   "source": [
    "from unityagents import UnityEnvironment\n",
    "import numpy as np"
   ]
  },
  {
   "cell_type": "markdown",
   "metadata": {
    "deletable": true,
    "editable": true
   },
   "source": [
    "Next, we will start the environment!  **_Before running the code cell below_**, change the `file_name` parameter to match the location of the Unity environment that you downloaded.\n",
    "\n",
    "- **Mac**: `\"path/to/Tennis.app\"`\n",
    "- **Windows** (x86): `\"path/to/Tennis_Windows_x86/Tennis.exe\"`\n",
    "- **Windows** (x86_64): `\"path/to/Tennis_Windows_x86_64/Tennis.exe\"`\n",
    "- **Linux** (x86): `\"path/to/Tennis_Linux/Tennis.x86\"`\n",
    "- **Linux** (x86_64): `\"path/to/Tennis_Linux/Tennis.x86_64\"`\n",
    "- **Linux** (x86, headless): `\"path/to/Tennis_Linux_NoVis/Tennis.x86\"`\n",
    "- **Linux** (x86_64, headless): `\"path/to/Tennis_Linux_NoVis/Tennis.x86_64\"`\n",
    "\n",
    "For instance, if you are using a Mac, then you downloaded `Tennis.app`.  If this file is in the same folder as the notebook, then the line below should appear as follows:\n",
    "```\n",
    "env = UnityEnvironment(file_name=\"Tennis.app\")\n",
    "```"
   ]
  },
  {
   "cell_type": "code",
   "execution_count": 2,
   "metadata": {
    "collapsed": false,
    "deletable": true,
    "editable": true
   },
   "outputs": [
    {
     "name": "stderr",
     "output_type": "stream",
     "text": [
      "INFO:unityagents:\n",
      "'Academy' started successfully!\n",
      "Unity Academy name: Academy\n",
      "        Number of Brains: 1\n",
      "        Number of External Brains : 1\n",
      "        Lesson number : 0\n",
      "        Reset Parameters :\n",
      "\t\t\n",
      "Unity brain name: TennisBrain\n",
      "        Number of Visual Observations (per agent): 0\n",
      "        Vector Observation space type: continuous\n",
      "        Vector Observation space size (per agent): 8\n",
      "        Number of stacked Vector Observation: 3\n",
      "        Vector Action space type: continuous\n",
      "        Vector Action space size (per agent): 2\n",
      "        Vector Action descriptions: , \n"
     ]
    }
   ],
   "source": [
    "env = UnityEnvironment(file_name=\"Tennis.app\")"
   ]
  },
  {
   "cell_type": "markdown",
   "metadata": {
    "deletable": true,
    "editable": true
   },
   "source": [
    "Environments contain **_brains_** which are responsible for deciding the actions of their associated agents. Here we check for the first brain available, and set it as the default brain we will be controlling from Python."
   ]
  },
  {
   "cell_type": "code",
   "execution_count": 3,
   "metadata": {
    "collapsed": true,
    "deletable": true,
    "editable": true
   },
   "outputs": [],
   "source": [
    "# get the default brain\n",
    "brain_name = env.brain_names[0]\n",
    "brain = env.brains[brain_name]"
   ]
  },
  {
   "cell_type": "markdown",
   "metadata": {
    "deletable": true,
    "editable": true
   },
   "source": [
    "### 2. Examine the State and Action Spaces\n",
    "\n",
    "In this environment, two agents control rackets to bounce a ball over a net. If an agent hits the ball over the net, it receives a reward of +0.1.  If an agent lets a ball hit the ground or hits the ball out of bounds, it receives a reward of -0.01.  Thus, the goal of each agent is to keep the ball in play.\n",
    "\n",
    "The observation space consists of 8 variables corresponding to the position and velocity of the ball and racket. Two continuous actions are available, corresponding to movement toward (or away from) the net, and jumping. \n",
    "\n",
    "Run the code cell below to print some information about the environment."
   ]
  },
  {
   "cell_type": "code",
   "execution_count": 4,
   "metadata": {
    "collapsed": false,
    "deletable": true,
    "editable": true
   },
   "outputs": [
    {
     "name": "stdout",
     "output_type": "stream",
     "text": [
      "Number of agents: 2\n",
      "Size of each action: 2\n",
      "There are 2 agents. Each observes a state with length: 24\n",
      "The state for the first agent looks like: [ 0.          0.          0.          0.          0.          0.\n",
      "  0.          0.          0.          0.          0.          0.\n",
      "  0.          0.          0.          0.         -6.65278625 -1.5\n",
      " -0.          0.          6.83172083  6.         -0.          0.        ]\n",
      "The state for the second agent looks like: [ 0.          0.          0.          0.          0.          0.\n",
      "  0.          0.          0.          0.          0.          0.\n",
      "  0.          0.          0.          0.         -6.4669857  -1.5\n",
      "  0.          0.         -6.83172083  6.          0.          0.        ]\n"
     ]
    }
   ],
   "source": [
    "# reset the environment\n",
    "env_info = env.reset(train_mode=True)[brain_name]\n",
    "\n",
    "# number of agents \n",
    "num_agents = len(env_info.agents)\n",
    "print('Number of agents:', num_agents)\n",
    "\n",
    "# size of each action\n",
    "action_size = brain.vector_action_space_size\n",
    "print('Size of each action:', action_size)\n",
    "\n",
    "# examine the state space \n",
    "states = env_info.vector_observations\n",
    "state_size = states.shape[1]\n",
    "print('There are {} agents. Each observes a state with length: {}'.format(states.shape[0], state_size))\n",
    "print('The state for the first agent looks like:', states[0])\n",
    "print('The state for the second agent looks like:', states[1])"
   ]
  },
  {
   "cell_type": "markdown",
   "metadata": {
    "deletable": true,
    "editable": true
   },
   "source": [
    "### 3. Train the agent with ddpg"
   ]
  },
  {
   "cell_type": "code",
   "execution_count": 6,
   "metadata": {
    "collapsed": false,
    "deletable": true,
    "editable": true
   },
   "outputs": [],
   "source": [
    "from collections import deque\n",
    "import matplotlib.pyplot as plt\n",
    "from ddpg_agent import Agent\n",
    "import torch\n",
    "\n",
    "%matplotlib inline"
   ]
  },
  {
   "cell_type": "code",
   "execution_count": null,
   "metadata": {
    "collapsed": false,
    "deletable": true,
    "editable": true
   },
   "outputs": [
    {
     "name": "stdout",
     "output_type": "stream",
     "text": [
      "Appended to Agent.instances agent 10\n",
      "Appended to Agent.instances agent 11\n",
      "Episode 5\tTimestep 1000\tNoise 1.80\tRewards [ 0.00  0.00]\tScores: [ 2.60  2.60]\n",
      "Environment solved in 5 episodes!\tAverage Score: 0.54\n",
      "Episode 100\tAverage Score: 0.87.07\tRewards [-0.01  0.00]\tScores: [ 0.09  0.10]]\n",
      "Episode 200\tAverage Score: 1.0200\tRewards [-0.01  0.00]\tScores: [-0.01  0.00]60]\n",
      "Episode 300\tAverage Score: 0.980.00\tRewards [-0.01  0.00]\tScores: [ 0.39  0.40]]\n",
      "Episode 400\tAverage Score: 1.56 0.00\tRewards [ 0.00  0.00]\tScores: [ 2.60  2.50]\n",
      "Episode 500\tAverage Score: 1.37.00\tRewards [-0.01  0.00]\tScores: [ 0.09  0.10]]]\n",
      "Episode 600\tAverage Score: 1.06 0.00\tRewards [ 0.00  0.00]\tScores: [ 2.60  2.60]\n",
      "Episode 700\tAverage Score: 0.440.00\tRewards [ 0.00 -0.01]\tScores: [ 1.80  1.79]]\n",
      "Episode 800\tAverage Score: 1.1100\tRewards [-0.01  0.00]\tScores: [-0.01  0.00]50]\n",
      "Episode 891\tTimestep 55\tNoise 0.00\tRewards [ 0.00  0.00]\tScores: [ 0.10  0.10]]]"
     ]
    }
   ],
   "source": [
    "def ddpg(n_episodes=10, max_t=1000, vars=None):\n",
    "    \"\"\" Deep Deterministic Policy Gradients\n",
    "    Params\n",
    "    ======\n",
    "        n_episodes (int): maximum number of training episodes\n",
    "        max_t (int): maximum number of timesteps per episode\n",
    "    \"\"\"\n",
    "\n",
    "    if vars:\n",
    "        scores_window = vars[\"scores_window\"]\n",
    "        scores = vars[\"scores\"]\n",
    "        scores_episode = vars[\"scores_episode\"]\n",
    "        agents = vars[\"agents\"]\n",
    "        noise = vars[\"noise\"]\n",
    "        noise_reduction = vars[\"noise_reduction\"]\n",
    "        finishow = vars[\"finishow\"]\n",
    "    else:\n",
    "        scores_window = deque(maxlen=100)\n",
    "        scores = np.zeros(num_agents)\n",
    "        scores_episode = []\n",
    "        agents =[] \n",
    "        noise = 2\n",
    "        noise_reduction = 0.9999\n",
    "        finishow = True\n",
    "    \n",
    "    for i in range(num_agents):\n",
    "        agents.append(Agent(state_size, action_size, random_seed=0))\n",
    "    \n",
    "    for i_episode in range(1, n_episodes+1):\n",
    "        env_info = env.reset(train_mode=True)[brain_name]\n",
    "        states = env_info.vector_observations\n",
    "        \n",
    "        for agent in agents:\n",
    "            agent.reset()\n",
    "            \n",
    "        scores = np.zeros(num_agents)\n",
    "            \n",
    "        t = 0    \n",
    "        while True:\n",
    "            actions = np.array([agents[i].act(states[i],noise) for i in range(num_agents)])\n",
    "            noise *= noise_reduction\n",
    "\n",
    "            env_info = env.step(actions)[brain_name]        \n",
    "            next_states = env_info.vector_observations     \n",
    "            rewards = env_info.rewards                     \n",
    "            dones = env_info.local_done        \n",
    "            \n",
    "            for i in range(num_agents):\n",
    "                agents[i].step(t,states[i], actions[i], rewards[i], next_states[i], dones[i]) \n",
    " \n",
    "            states = next_states\n",
    "            scores += rewards\n",
    "            \n",
    "            print('\\rEpisode {}\\tTimestep {}\\tNoise {:.2f}\\tRewards {}\\tScores: {}'\n",
    "                .format(i_episode, t, noise, np.array(rewards), scores), end=\"\") \n",
    "            if np.any(dones):\n",
    "                break\n",
    "            t += 1\n",
    "            \n",
    "        score = np.max(scores)\n",
    "        scores_window.append(score)      \n",
    "        scores_episode.append(score)\n",
    "\n",
    "        if i_episode % 100 == 0:\n",
    "            print('\\rEpisode {}\\tAverage Score: {:.2f}'.format(i_episode, np.mean(scores_window)))\n",
    "        if np.mean(scores_window)>=0.5:\n",
    "            if finishow:\n",
    "                print('\\nEnvironment solved in {:d} episodes!\\tAverage Score: {:.2f}'.format(len(scores_episode), np.mean(scores_window)))\n",
    "                torch.save(Agent.instances[0].actor_local.state_dict(), 'checkpoint1_actor0.pth')\n",
    "                torch.save(Agent.instances[1].actor_local.state_dict(), 'checkpoint1_actor1.pth')\n",
    "                torch.save(Agent.critic_local.state_dict(), 'checkpoint1_critic.pth')\n",
    "                finishow = False            \n",
    "    return {\n",
    "            \"scores_window\":    scores_window ,\n",
    "            \"scores\": scores , \n",
    "            \"scores_episode\" : scores_episode ,\n",
    "            \"agents\": agents ,\n",
    "            \"noise\": noise , \n",
    "            \"noise_reduction\": noise_reduction }\n",
    "\n",
    "# Tennis environment needs 2 agents\n",
    "assert num_agents == 2\n",
    "np.set_printoptions(formatter={'float': '{: 0.2f}'.format})\n",
    "    \n",
    "data = ddpg(n_episodes=2000, max_t=1000, vars=None)    \n",
    "scores = data[\"scores_episode\"]\n",
    "\n",
    "fig = plt.figure()\n",
    "ax = fig.add_subplot(111)\n",
    "plt.plot(np.arange(len(scores)), scores)\n",
    "plt.ylabel('Score')\n",
    "plt.xlabel('Episode #')\n",
    "plt.show()"
   ]
  },
  {
   "cell_type": "code",
   "execution_count": 15,
   "metadata": {
    "collapsed": false
   },
   "outputs": [
    {
     "name": "stdout",
     "output_type": "stream",
     "text": [
      "Appended to Agent.instances agent 8\n",
      "Appended to Agent.instances agent 9\n",
      "Episode 1\tTimestep 318\tNoise 0.09\tRewards [ 0.00 -0.01]\tScores: [ 0.80  0.79]\n",
      "Environment solved in -99 episodes!\tAverage Score: 0.51\n"
     ]
    }
   ],
   "source": [
    "data = ddpg(n_episodes=2000, max_t=1000, vars=data)    \n",
    "scores = data[\"scores_episode\"]"
   ]
  },
  {
   "cell_type": "code",
   "execution_count": 16,
   "metadata": {
    "collapsed": false
   },
   "outputs": [
    {
     "data": {
      "image/png": "[encoded data removed]",
      "text/plain": [
       "<Figure size 792x792 with 1 Axes>"
      ]
     },
     "metadata": {},
     "output_type": "display_data"
    }
   ],
   "source": [
    "import seaborn as sns\n",
    "sns.set(style=\"darkgrid\")\n",
    "sns.set_palette(\"Set2\")\n",
    "s = scores[:-4]\n",
    "from scipy.ndimage.filters import gaussian_filter1d\n",
    "ysmoothed2 = gaussian_filter1d(scores, sigma=2)\n",
    "ysmoothed3 = gaussian_filter1d(scores, sigma=10)\n",
    "\n",
    "fig = plt.figure(figsize=(11,11))\n",
    "ax = fig.add_subplot(111)\n",
    "plt.plot(np.arange(len(scores)), scores, linewidth=0.1)\n",
    "plt.plot(np.arange(len(scores)), ysmoothed3, linewidth=2.2)\n",
    "plt.plot(np.arange(len(scores)), ysmoothed2, linewidth=0.9)\n",
    "\n",
    "plt.ylabel('Score')\n",
    "plt.xlabel('Episode #')\n",
    "plt.show()"
   ]
  },
  {
   "cell_type": "code",
   "execution_count": 7,
   "metadata": {
    "collapsed": true,
    "deletable": true,
    "editable": true
   },
   "outputs": [],
   "source": [
    "env.close()"
   ]
  }
 ],
 "metadata": {
  "kernelspec": {
   "display_name": "drlnd",
   "language": "python",
   "name": "drlnd"
  },
  "language_info": {
   "codemirror_mode": {
    "name": "ipython",
    "version": 3
   },
   "file_extension": ".py",
   "mimetype": "text/x-python",
   "name": "python",
   "nbconvert_exporter": "python",
   "pygments_lexer": "ipython3",
   "version": "3.6.7"
  }
 },
 "nbformat": 4,
 "nbformat_minor": 2
}
